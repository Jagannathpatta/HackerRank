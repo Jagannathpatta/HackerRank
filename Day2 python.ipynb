{
 "cells": [
  {
   "cell_type": "markdown",
   "metadata": {},
   "source": [
    "Problem Link\n",
    "\n",
    "https://www.hackerrank.com/challenges/python-lists/problem"
   ]
  },
  {
   "cell_type": "code",
   "execution_count": 3,
   "metadata": {},
   "outputs": [
    {
     "name": "stdout",
     "output_type": "stream",
     "text": [
      "12\n",
      "insert 0 5\n",
      "insert 1 10\n",
      "insert 0 6\n",
      "print\n",
      "remove 6\n",
      "append 9\n",
      "append 1\n",
      "sort\n",
      "print\n",
      "pop\n",
      "reverse\n",
      "print\n",
      "Query List: [['insert', ['0', '5']], ['insert', ['1', '10']], ['insert', ['0', '6']], ['print', []], ['remove', ['6']], ['append', ['9']], ['append', ['1']], ['sort', []], ['print', []], ['pop', []], ['reverse', []], ['print', []]]\n",
      "[6, 5, 10]\n",
      "[1, 5, 9, 10]\n",
      "[9, 5, 1]\n"
     ]
    }
   ],
   "source": [
    "if __name__ == '__main__':\n",
    "    N = int(input())\n",
    "    queries = []\n",
    "    for i in range(N):\n",
    "        query, *line = input().split()\n",
    "        queries.append([query , line])\n",
    "       \n",
    "\n",
    "    l = []\n",
    "    print(\"Query List:\",queries)\n",
    "    \n",
    "    for i in queries:\n",
    "        if i[0] == 'insert':\n",
    "            l.insert(int(i[1][0]) , int(i[1][1]))\n",
    "        elif i[0] == 'append':\n",
    "            l.append(int(i[1][0]))    \n",
    "        elif i[0] == 'remove':\n",
    "            l.remove(int(i[1][0]))\n",
    "        elif i[0] == 'pop':\n",
    "            l.pop()\n",
    "        elif i[0] == 'sort':\n",
    "            l.sort()\n",
    "        elif i[0] == 'reverse':\n",
    "            l.reverse()\n",
    "        elif i[0] == 'print':\n",
    "            print(l)"
   ]
  },
  {
   "cell_type": "markdown",
   "metadata": {},
   "source": [
    "Problem Link \n",
    "\n",
    "https://www.hackerrank.com/challenges/validate-list-of-email-address-with-filter/problem?h_r=next-challenge&h_v=zen&h_r=next-challenge&h_v=zen"
   ]
  },
  {
   "cell_type": "code",
   "execution_count": 4,
   "metadata": {},
   "outputs": [
    {
     "name": "stdout",
     "output_type": "stream",
     "text": [
      "3\n",
      "lara@hackerrank.com\n",
      "brain-23@hackerrank.com\n",
      "britts_54@hackerrank.com\n",
      "['brain-23@hackerrank.com', 'britts_54@hackerrank.com', 'lara@hackerrank.com']\n"
     ]
    }
   ],
   "source": [
    "from string import punctuation\n",
    "l = list(punctuation)\n",
    "l2 = list(punctuation)\n",
    "l2.remove('_')\n",
    "l2.remove('-')\n",
    "\n",
    "def checkWebsite(s):\n",
    "    for i in s:\n",
    "        if i in l:\n",
    "            return False\n",
    "    else:\n",
    "        return True\n",
    "\n",
    "def checkUserName(s , l):\n",
    "    for i in s:\n",
    "        if i in l:\n",
    "            return False\n",
    "    else:\n",
    "        return True\n",
    "\n",
    "\n",
    "def fun(s):    \n",
    "\n",
    "    if s.count('@') == 1 and s.count('.') == 1:\n",
    "        \n",
    "        un = s.split('@')[0]\n",
    "        ext = s.split('.')[1]\n",
    "        website = s.split('.')[0].split('@')[1]\n",
    "\n",
    "        if len(ext) <= 3:\n",
    "            if checkWebsite(website):  \n",
    "                if checkUserName(un , l2):\n",
    "                    return True\n",
    "                else:\n",
    "                    return False\n",
    "            else:\n",
    "                return False\n",
    "\n",
    "        else:\n",
    "            return False \n",
    "    else:\n",
    "        return False \n",
    "    # return True if s is a valid email, else return False\n",
    "\n",
    "def filter_mail(emails):\n",
    "    return list(filter(fun, emails))\n",
    "\n",
    "if __name__ == '__main__':\n",
    "    n = int(input())\n",
    "    emails = []\n",
    "    for _ in range(n):\n",
    "        emails.append(input())\n",
    "\n",
    "filtered_emails = filter_mail(emails)\n",
    "filtered_emails.sort()\n",
    "print(filtered_emails)"
   ]
  },
  {
   "cell_type": "markdown",
   "metadata": {},
   "source": [
    "Problem Link \n",
    "\n",
    "https://www.hackerrank.com/challenges/the-minion-game/problem"
   ]
  },
  {
   "cell_type": "code",
   "execution_count": 1,
   "metadata": {},
   "outputs": [
    {
     "name": "stdout",
     "output_type": "stream",
     "text": [
      "BANANA\n",
      "Stuart 12\n"
     ]
    }
   ],
   "source": [
    "def minion_game(string):\n",
    "    # your code goes here\n",
    "    \n",
    "    stuartTotalScore = 0\n",
    "    kevinTotalScore = 0\n",
    "    \n",
    "    for i in range(len(string)):\n",
    "        if string[i] in \"AEIOU\":\n",
    "            kevinTotalScore += (len(string) - i) \n",
    "        else:\n",
    "            stuartTotalScore += (len(string) - i)\n",
    "    \n",
    "    if kevinTotalScore < stuartTotalScore :\n",
    "        print(\"Stuart\", stuartTotalScore)\n",
    "    elif kevinTotalScore > stuartTotalScore:\n",
    "        print(\"Kevin\", kevinTotalScore)\n",
    "    else:\n",
    "        print(\"Draw\")\n",
    "\n",
    "\n",
    "if __name__ == '__main__':\n",
    "    s = input()\n",
    "    minion_game(s)"
   ]
  },
  {
   "cell_type": "code",
   "execution_count": null,
   "metadata": {},
   "outputs": [],
   "source": []
  }
 ],
 "metadata": {
  "kernelspec": {
   "display_name": "Python 3",
   "language": "python",
   "name": "python3"
  },
  "language_info": {
   "codemirror_mode": {
    "name": "ipython",
    "version": 3
   },
   "file_extension": ".py",
   "mimetype": "text/x-python",
   "name": "python",
   "nbconvert_exporter": "python",
   "pygments_lexer": "ipython3",
   "version": "3.7.0"
  }
 },
 "nbformat": 4,
 "nbformat_minor": 2
}
