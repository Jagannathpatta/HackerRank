{
 "cells": [
  {
   "cell_type": "markdown",
   "metadata": {},
   "source": [
    "Given the participants' score sheet for your University Sports Day, you are required to find the runner-up score. You are given scores. Store them in a list and find the score of the runner-up. \n",
    "\n",
    "1. Input Format\n",
    ". The first line contains\n",
    ". The second line contains an array of integers each separated by a space. \n",
    "2. Output Format\n",
    "Print the runner-up score.\n",
    "\n",
    "Sample Input 0\n",
    "\n",
    "5\n",
    "2 3 6 6 5\n",
    "\n",
    "Sample Output 0\n",
    "\n",
    "5\n"
   ]
  },
  {
   "cell_type": "code",
   "execution_count": 4,
   "metadata": {},
   "outputs": [
    {
     "name": "stdout",
     "output_type": "stream",
     "text": [
      "9\n",
      "9 4 6 2 3 9 4 4 5 6 \n",
      "6\n"
     ]
    }
   ],
   "source": [
    "if __name__ == '__main__':\n",
    "    n = int(input())\n",
    "    arr = map(int, input().split())\n",
    "    #converted the arr into list .\n",
    "    l = list(arr)\n",
    "    #sorting the arr elements which are now in list.\n",
    "    l.sort(reverse = True)\n",
    "    #Printing the runner-up score\n",
    "    print(l[l.count(l[0])])"
   ]
  },
  {
   "cell_type": "markdown",
   "metadata": {},
   "source": [
    "Prolem Link\n",
    "\n",
    "https://www.hackerrank.com/challenges/nested-list/problem?h_r=next-challenge&h_v=zen&h_r=next-challenge&h_v=zen\n"
   ]
  },
  {
   "cell_type": "code",
   "execution_count": 6,
   "metadata": {},
   "outputs": [
    {
     "name": "stdout",
     "output_type": "stream",
     "text": [
      "5\n",
      "Harry\n",
      "37.21\n",
      "Berry\n",
      "37.21\n",
      "Tina\n",
      "37.2\n",
      "Akriti\n",
      "41\n",
      "Harsh\n",
      "39\n",
      "Berry\n",
      "Harry\n"
     ]
    }
   ],
   "source": [
    "if __name__ == '__main__':\n",
    "    l = []            #defined an empty list.\n",
    "    for _ in range(int(input())):\n",
    "        name = input()\n",
    "        score = float(input())\n",
    "        l.append([name , score]) # adding elements into the list.\n",
    "    \n",
    "    def fmarks(e): #created a function for sorting the students\n",
    "        return e[1] #according to there marks.\n",
    "\n",
    "    l =sorted(l , key = fmarks) # list is been redefined, sorted according to marks. \n",
    "  \n",
    "    #This function will return us the 2nd lowest marks.\n",
    "    def secondLowest(l):\n",
    "        res = []   #This list will be containing the marks.\n",
    "        for i in l:\n",
    "            res.append(i[1])\n",
    "        return res[res.count(res[0])] #returning the 2nd lowest marks\n",
    "\n",
    "    \n",
    "    #This function will return us the final output i.e names of those students\n",
    "    #having 2nd lowest marks in alphabetic order.\n",
    "    def alphaOrderedNames(l):\n",
    "        names = []\n",
    "        \n",
    "        for i in l:\n",
    "            if i[1] == secondLowest(l) :\n",
    "                names.append(i[0]) #adding only those students having 2nd lowest marks.\n",
    "        \n",
    "        names.sort()  #sorting names in alphabetic order.\n",
    "        \n",
    "        for name in names:\n",
    "            print(name)   #final printing of names.\n",
    "\n",
    "    alphaOrderedNames(l)\n"
   ]
  },
  {
   "cell_type": "markdown",
   "metadata": {},
   "source": [
    "Problem Link \n",
    "https://www.hackerrank.com/challenges/finding-the-percentage/problem"
   ]
  },
  {
   "cell_type": "code",
   "execution_count": 7,
   "metadata": {},
   "outputs": [
    {
     "name": "stdout",
     "output_type": "stream",
     "text": [
      "3\n",
      "Krishna 67 68 69\n",
      "Arjun 70 98 63\n",
      "Malika 52 56 60\n",
      "Arjun\n",
      "77.00\n"
     ]
    }
   ],
   "source": [
    "if __name__ == '__main__':\n",
    "    n = int(input())  # No. of students\n",
    "    student_marks = {}\n",
    "    for _ in range(n):\n",
    "        name, *line = input().split()\n",
    "        scores = list(map(float, line))\n",
    "        student_marks[name] = scores\n",
    "    query_name = input()  #student whoes avg to be find.\n",
    "\n",
    "    \n",
    "    if query_name in student_marks:        \n",
    "        avg = sum(student_marks.get(query_name)) / 3\n",
    "        print(\"{0:.2f}\".format(avg))"
   ]
  },
  {
   "cell_type": "code",
   "execution_count": null,
   "metadata": {},
   "outputs": [],
   "source": []
  }
 ],
 "metadata": {
  "kernelspec": {
   "display_name": "Python 3",
   "language": "python",
   "name": "python3"
  },
  "language_info": {
   "codemirror_mode": {
    "name": "ipython",
    "version": 3
   },
   "file_extension": ".py",
   "mimetype": "text/x-python",
   "name": "python",
   "nbconvert_exporter": "python",
   "pygments_lexer": "ipython3",
   "version": "3.7.0"
  }
 },
 "nbformat": 4,
 "nbformat_minor": 2
}
